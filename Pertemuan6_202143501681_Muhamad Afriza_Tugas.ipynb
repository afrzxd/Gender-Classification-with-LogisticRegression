{
 "cells": [
  {
   "cell_type": "markdown",
   "metadata": {},
   "source": [
    "##### klasifikasi menggunakan logistik regresi pada data https://www.kaggle.com/datasets/hb20007/gender-classification. Metrik pengukuran harus mencakup nilai akurasi, confusion matriks, atau yg lain"
   ]
  },
  {
   "cell_type": "markdown",
   "metadata": {},
   "source": [
    "###### Import Semua Library / Modul yang dibutuhkan"
   ]
  },
  {
   "cell_type": "code",
   "execution_count": 3,
   "metadata": {},
   "outputs": [],
   "source": [
    "# Memanggil semua library yang dibutuhkan\n",
    "import pandas as pd\n",
    "import numpy as np\n",
    "from sklearn.preprocessing import LabelEncoder\n",
    "from sklearn.linear_model import LogisticRegression\n",
    "from sklearn.model_selection import cross_val_score\n",
    "from sklearn.model_selection import train_test_split\n",
    "from sklearn import metrics\n",
    "from sklearn.metrics import confusion_matrix\n",
    "from sklearn.metrics import roc_curve, roc_auc_score\n",
    "from sklearn.metrics import f1_score\n",
    "import matplotlib.pyplot as plt\n",
    "import seaborn as sns\n",
    "import joblib"
   ]
  },
  {
   "cell_type": "markdown",
   "metadata": {},
   "source": [
    "###### Mengambil Dataset dari file CSV"
   ]
  },
  {
   "cell_type": "code",
   "execution_count": 4,
   "metadata": {},
   "outputs": [
    {
     "data": {
      "text/html": [
       "<div>\n",
       "<style scoped>\n",
       "    .dataframe tbody tr th:only-of-type {\n",
       "        vertical-align: middle;\n",
       "    }\n",
       "\n",
       "    .dataframe tbody tr th {\n",
       "        vertical-align: top;\n",
       "    }\n",
       "\n",
       "    .dataframe thead th {\n",
       "        text-align: right;\n",
       "    }\n",
       "</style>\n",
       "<table border=\"1\" class=\"dataframe\">\n",
       "  <thead>\n",
       "    <tr style=\"text-align: right;\">\n",
       "      <th></th>\n",
       "      <th>Favorite Color</th>\n",
       "      <th>Favorite Music Genre</th>\n",
       "      <th>Favorite Beverage</th>\n",
       "      <th>Favorite Soft Drink</th>\n",
       "      <th>Gender</th>\n",
       "    </tr>\n",
       "  </thead>\n",
       "  <tbody>\n",
       "    <tr>\n",
       "      <th>0</th>\n",
       "      <td>Cool</td>\n",
       "      <td>Rock</td>\n",
       "      <td>Vodka</td>\n",
       "      <td>7UP/Sprite</td>\n",
       "      <td>F</td>\n",
       "    </tr>\n",
       "    <tr>\n",
       "      <th>1</th>\n",
       "      <td>Neutral</td>\n",
       "      <td>Hip hop</td>\n",
       "      <td>Vodka</td>\n",
       "      <td>Coca Cola/Pepsi</td>\n",
       "      <td>F</td>\n",
       "    </tr>\n",
       "    <tr>\n",
       "      <th>2</th>\n",
       "      <td>Warm</td>\n",
       "      <td>Rock</td>\n",
       "      <td>Wine</td>\n",
       "      <td>Coca Cola/Pepsi</td>\n",
       "      <td>F</td>\n",
       "    </tr>\n",
       "    <tr>\n",
       "      <th>3</th>\n",
       "      <td>Warm</td>\n",
       "      <td>Folk/Traditional</td>\n",
       "      <td>Whiskey</td>\n",
       "      <td>Fanta</td>\n",
       "      <td>F</td>\n",
       "    </tr>\n",
       "    <tr>\n",
       "      <th>4</th>\n",
       "      <td>Cool</td>\n",
       "      <td>Rock</td>\n",
       "      <td>Vodka</td>\n",
       "      <td>Coca Cola/Pepsi</td>\n",
       "      <td>F</td>\n",
       "    </tr>\n",
       "  </tbody>\n",
       "</table>\n",
       "</div>"
      ],
      "text/plain": [
       "  Favorite Color Favorite Music Genre Favorite Beverage Favorite Soft Drink  \\\n",
       "0           Cool                 Rock             Vodka          7UP/Sprite   \n",
       "1        Neutral              Hip hop             Vodka     Coca Cola/Pepsi   \n",
       "2           Warm                 Rock              Wine     Coca Cola/Pepsi   \n",
       "3           Warm     Folk/Traditional           Whiskey               Fanta   \n",
       "4           Cool                 Rock             Vodka     Coca Cola/Pepsi   \n",
       "\n",
       "  Gender  \n",
       "0      F  \n",
       "1      F  \n",
       "2      F  \n",
       "3      F  \n",
       "4      F  "
      ]
     },
     "execution_count": 4,
     "metadata": {},
     "output_type": "execute_result"
    }
   ],
   "source": [
    "# mengambil Dataset dari file CSV\n",
    "df = pd.read_csv(\"Transformed Data Set - Sheet1.csv\")\n",
    "# menampilkan 5 Data Pertama pada Dataset\n",
    "df.head()"
   ]
  },
  {
   "cell_type": "code",
   "execution_count": 5,
   "metadata": {},
   "outputs": [
    {
     "data": {
      "text/html": [
       "<div>\n",
       "<style scoped>\n",
       "    .dataframe tbody tr th:only-of-type {\n",
       "        vertical-align: middle;\n",
       "    }\n",
       "\n",
       "    .dataframe tbody tr th {\n",
       "        vertical-align: top;\n",
       "    }\n",
       "\n",
       "    .dataframe thead th {\n",
       "        text-align: right;\n",
       "    }\n",
       "</style>\n",
       "<table border=\"1\" class=\"dataframe\">\n",
       "  <thead>\n",
       "    <tr style=\"text-align: right;\">\n",
       "      <th></th>\n",
       "      <th>Favorite Color</th>\n",
       "      <th>Favorite Music Genre</th>\n",
       "      <th>Favorite Beverage</th>\n",
       "      <th>Favorite Soft Drink</th>\n",
       "      <th>Gender</th>\n",
       "    </tr>\n",
       "  </thead>\n",
       "  <tbody>\n",
       "    <tr>\n",
       "      <th>count</th>\n",
       "      <td>66</td>\n",
       "      <td>66</td>\n",
       "      <td>66</td>\n",
       "      <td>66</td>\n",
       "      <td>66</td>\n",
       "    </tr>\n",
       "    <tr>\n",
       "      <th>unique</th>\n",
       "      <td>3</td>\n",
       "      <td>7</td>\n",
       "      <td>6</td>\n",
       "      <td>4</td>\n",
       "      <td>2</td>\n",
       "    </tr>\n",
       "    <tr>\n",
       "      <th>top</th>\n",
       "      <td>Cool</td>\n",
       "      <td>Rock</td>\n",
       "      <td>Doesn't drink</td>\n",
       "      <td>Coca Cola/Pepsi</td>\n",
       "      <td>F</td>\n",
       "    </tr>\n",
       "    <tr>\n",
       "      <th>freq</th>\n",
       "      <td>37</td>\n",
       "      <td>19</td>\n",
       "      <td>14</td>\n",
       "      <td>32</td>\n",
       "      <td>33</td>\n",
       "    </tr>\n",
       "  </tbody>\n",
       "</table>\n",
       "</div>"
      ],
      "text/plain": [
       "       Favorite Color Favorite Music Genre Favorite Beverage  \\\n",
       "count              66                   66                66   \n",
       "unique              3                    7                 6   \n",
       "top              Cool                 Rock     Doesn't drink   \n",
       "freq               37                   19                14   \n",
       "\n",
       "       Favorite Soft Drink Gender  \n",
       "count                   66     66  \n",
       "unique                   4      2  \n",
       "top        Coca Cola/Pepsi      F  \n",
       "freq                    32     33  "
      ]
     },
     "execution_count": 5,
     "metadata": {},
     "output_type": "execute_result"
    }
   ],
   "source": [
    "# menghasilkan statistik seperti count,mean,unique dll\n",
    "df.describe()"
   ]
  },
  {
   "cell_type": "code",
   "execution_count": 6,
   "metadata": {},
   "outputs": [
    {
     "name": "stdout",
     "output_type": "stream",
     "text": [
      "<class 'pandas.core.frame.DataFrame'>\n",
      "RangeIndex: 66 entries, 0 to 65\n",
      "Data columns (total 5 columns):\n",
      " #   Column                Non-Null Count  Dtype \n",
      "---  ------                --------------  ----- \n",
      " 0   Favorite Color        66 non-null     object\n",
      " 1   Favorite Music Genre  66 non-null     object\n",
      " 2   Favorite Beverage     66 non-null     object\n",
      " 3   Favorite Soft Drink   66 non-null     object\n",
      " 4   Gender                66 non-null     object\n",
      "dtypes: object(5)\n",
      "memory usage: 2.7+ KB\n"
     ]
    }
   ],
   "source": [
    "# Menampilkan informasi tentang DataFrame seperti Range,Total Column, DType, dan NonNull \n",
    "df.info()"
   ]
  },
  {
   "cell_type": "code",
   "execution_count": 7,
   "metadata": {},
   "outputs": [
    {
     "data": {
      "text/plain": [
       "Favorite Color          0\n",
       "Favorite Music Genre    0\n",
       "Favorite Beverage       0\n",
       "Favorite Soft Drink     0\n",
       "Gender                  0\n",
       "dtype: int64"
      ]
     },
     "execution_count": 7,
     "metadata": {},
     "output_type": "execute_result"
    }
   ],
   "source": [
    "# memeriksa dan menjumlahkan data null \n",
    "df.isnull().sum()"
   ]
  },
  {
   "cell_type": "code",
   "execution_count": 8,
   "metadata": {},
   "outputs": [
    {
     "name": "stdout",
     "output_type": "stream",
     "text": [
      "Jumlah Female (F): 33\n",
      "Jumlah Male (M): 33\n"
     ]
    }
   ],
   "source": [
    "# Melihat Jumlah Data Gender memastikan data seimbang / sama jumlahnya\n",
    "num_female = df['Gender'].value_counts()['F']\n",
    "num_male = df['Gender'].value_counts()['M']\n",
    "print(f'Jumlah Female (F): {num_female}')\n",
    "print(f'Jumlah Male (M): {num_male}')"
   ]
  },
  {
   "cell_type": "markdown",
   "metadata": {},
   "source": [
    "###### Split Dataset"
   ]
  },
  {
   "cell_type": "code",
   "execution_count": 9,
   "metadata": {},
   "outputs": [
    {
     "name": "stdout",
     "output_type": "stream",
     "text": [
      "Jumlah Fitur : (66, 4)\n",
      "Jumlah Target : (66,)\n"
     ]
    }
   ],
   "source": [
    "# Memisahkan fitur dan target || X sebagai Fitur dan y sebagain Target\n",
    "# kita bisa gunakan ini jika ingin mengambil beberapa fitur saja\n",
    "#X = df[['Favorite Color', 'Favorite Music Genre', 'Favorite Beverage', 'Favorite Soft Drink']]\n",
    "# tapi karna kita pakai semua fitur yg ada maka gunakan get_dummies dan menghapus kolom Gendernya\n",
    "X = df.drop(['Gender'],axis=1)\n",
    "# kita ambil gender sebagai Target\n",
    "Y = df['Gender']\n",
    "\n",
    "# mengetahui bentuk (shape) , ada baris dan kolom\n",
    "print(\"Jumlah Fitur :\",X.shape)\n",
    "print(\"Jumlah Target :\",Y.shape)\n"
   ]
  },
  {
   "cell_type": "code",
   "execution_count": 10,
   "metadata": {},
   "outputs": [],
   "source": [
    "# Membagi data menjadi data latih dan data uji dari library sklearn.model_selection\n",
    "# test_size=0.2 , data latih 20% dan 80% data latih\n",
    "\n",
    "X_train, X_test, y_train , y_test = train_test_split(X,Y, test_size=0.2, random_state=0) "
   ]
  },
  {
   "cell_type": "markdown",
   "metadata": {},
   "source": [
    "###### Encode Dataset"
   ]
  },
  {
   "cell_type": "code",
   "execution_count": 11,
   "metadata": {},
   "outputs": [],
   "source": [
    "# sebelum memasukan dataset sebagai model di regresi logistik , kita perlu melakukan encode terlebih dulu\n",
    "# regresi logistik membutuhkan nilai numerik\n",
    "# inisiasi labelEncoder dan disimpan ke label_encoders\n",
    "label_encoders = {}\n",
    "# me looping setiap kolom X_train\n",
    "for column in X_train.columns:\n",
    "    # membuat objek LabelEncoder baru \n",
    "    label = LabelEncoder()\n",
    "    # melakukan encoding pada kolom X_train dan menyimpannya\n",
    "    X_train[column] = label.fit_transform(X_train[column])\n",
    "    # melakukan encoding pada kolom X_test dengan objek LabelEncoder yang sama\n",
    "    X_test[column] = label.transform(X_test[column])\n",
    "    # menyimpan objek LabelEncoder ke dalam dictionary label_encoders\n",
    "    label_encoders[column] = label"
   ]
  },
  {
   "cell_type": "code",
   "execution_count": 13,
   "metadata": {},
   "outputs": [
    {
     "name": "stdout",
     "output_type": "stream",
     "text": [
      "Encoded values for Favorite Color:\n",
      "  Cool -> 0\n",
      "  Neutral -> 1\n",
      "  Warm -> 2\n",
      "Encoded values for Favorite Music Genre:\n",
      "  Electronic -> 0\n",
      "  Folk/Traditional -> 1\n",
      "  Hip hop -> 2\n",
      "  Jazz/Blues -> 3\n",
      "  Pop -> 4\n",
      "  R&B and soul -> 5\n",
      "  Rock -> 6\n",
      "Encoded values for Favorite Beverage:\n",
      "  Beer -> 0\n",
      "  Doesn't drink -> 1\n",
      "  Other -> 2\n",
      "  Vodka -> 3\n",
      "  Whiskey -> 4\n",
      "  Wine -> 5\n",
      "Encoded values for Favorite Soft Drink:\n",
      "  7UP/Sprite -> 0\n",
      "  Coca Cola/Pepsi -> 1\n",
      "  Fanta -> 2\n",
      "  Other -> 3\n"
     ]
    }
   ],
   "source": [
    "# melihat hasil encode \n",
    "for column, encoder in label_encoders.items():\n",
    "    print(f\"Encoded values for {column}:\")\n",
    "    for label, code in zip(encoder.classes_, encoder.transform(encoder.classes_)):\n",
    "        print(f\"  {label} -> {code}\")"
   ]
  },
  {
   "cell_type": "code",
   "execution_count": 14,
   "metadata": {},
   "outputs": [],
   "source": [
    "# Gabungkan X dan y yang sudah diencode\n",
    "X_encoded = pd.concat([X, Y], axis=1)\n",
    "# Simpan dataset yang sudah diencode ke dalam file CSV\n",
    "X_encoded.to_csv('encoded_Transformed Data Set - Sheet1.csv', index=False)"
   ]
  },
  {
   "cell_type": "markdown",
   "metadata": {},
   "source": [
    "###### Create Model LogisticRegression"
   ]
  },
  {
   "cell_type": "code",
   "execution_count": 15,
   "metadata": {},
   "outputs": [
    {
     "data": {
      "text/html": [
       "<style>#sk-container-id-1 {color: black;background-color: white;}#sk-container-id-1 pre{padding: 0;}#sk-container-id-1 div.sk-toggleable {background-color: white;}#sk-container-id-1 label.sk-toggleable__label {cursor: pointer;display: block;width: 100%;margin-bottom: 0;padding: 0.3em;box-sizing: border-box;text-align: center;}#sk-container-id-1 label.sk-toggleable__label-arrow:before {content: \"▸\";float: left;margin-right: 0.25em;color: #696969;}#sk-container-id-1 label.sk-toggleable__label-arrow:hover:before {color: black;}#sk-container-id-1 div.sk-estimator:hover label.sk-toggleable__label-arrow:before {color: black;}#sk-container-id-1 div.sk-toggleable__content {max-height: 0;max-width: 0;overflow: hidden;text-align: left;background-color: #f0f8ff;}#sk-container-id-1 div.sk-toggleable__content pre {margin: 0.2em;color: black;border-radius: 0.25em;background-color: #f0f8ff;}#sk-container-id-1 input.sk-toggleable__control:checked~div.sk-toggleable__content {max-height: 200px;max-width: 100%;overflow: auto;}#sk-container-id-1 input.sk-toggleable__control:checked~label.sk-toggleable__label-arrow:before {content: \"▾\";}#sk-container-id-1 div.sk-estimator input.sk-toggleable__control:checked~label.sk-toggleable__label {background-color: #d4ebff;}#sk-container-id-1 div.sk-label input.sk-toggleable__control:checked~label.sk-toggleable__label {background-color: #d4ebff;}#sk-container-id-1 input.sk-hidden--visually {border: 0;clip: rect(1px 1px 1px 1px);clip: rect(1px, 1px, 1px, 1px);height: 1px;margin: -1px;overflow: hidden;padding: 0;position: absolute;width: 1px;}#sk-container-id-1 div.sk-estimator {font-family: monospace;background-color: #f0f8ff;border: 1px dotted black;border-radius: 0.25em;box-sizing: border-box;margin-bottom: 0.5em;}#sk-container-id-1 div.sk-estimator:hover {background-color: #d4ebff;}#sk-container-id-1 div.sk-parallel-item::after {content: \"\";width: 100%;border-bottom: 1px solid gray;flex-grow: 1;}#sk-container-id-1 div.sk-label:hover label.sk-toggleable__label {background-color: #d4ebff;}#sk-container-id-1 div.sk-serial::before {content: \"\";position: absolute;border-left: 1px solid gray;box-sizing: border-box;top: 0;bottom: 0;left: 50%;z-index: 0;}#sk-container-id-1 div.sk-serial {display: flex;flex-direction: column;align-items: center;background-color: white;padding-right: 0.2em;padding-left: 0.2em;position: relative;}#sk-container-id-1 div.sk-item {position: relative;z-index: 1;}#sk-container-id-1 div.sk-parallel {display: flex;align-items: stretch;justify-content: center;background-color: white;position: relative;}#sk-container-id-1 div.sk-item::before, #sk-container-id-1 div.sk-parallel-item::before {content: \"\";position: absolute;border-left: 1px solid gray;box-sizing: border-box;top: 0;bottom: 0;left: 50%;z-index: -1;}#sk-container-id-1 div.sk-parallel-item {display: flex;flex-direction: column;z-index: 1;position: relative;background-color: white;}#sk-container-id-1 div.sk-parallel-item:first-child::after {align-self: flex-end;width: 50%;}#sk-container-id-1 div.sk-parallel-item:last-child::after {align-self: flex-start;width: 50%;}#sk-container-id-1 div.sk-parallel-item:only-child::after {width: 0;}#sk-container-id-1 div.sk-dashed-wrapped {border: 1px dashed gray;margin: 0 0.4em 0.5em 0.4em;box-sizing: border-box;padding-bottom: 0.4em;background-color: white;}#sk-container-id-1 div.sk-label label {font-family: monospace;font-weight: bold;display: inline-block;line-height: 1.2em;}#sk-container-id-1 div.sk-label-container {text-align: center;}#sk-container-id-1 div.sk-container {/* jupyter's `normalize.less` sets `[hidden] { display: none; }` but bootstrap.min.css set `[hidden] { display: none !important; }` so we also need the `!important` here to be able to override the default hidden behavior on the sphinx rendered scikit-learn.org. See: https://github.com/scikit-learn/scikit-learn/issues/21755 */display: inline-block !important;position: relative;}#sk-container-id-1 div.sk-text-repr-fallback {display: none;}</style><div id=\"sk-container-id-1\" class=\"sk-top-container\"><div class=\"sk-text-repr-fallback\"><pre>LogisticRegression()</pre><b>In a Jupyter environment, please rerun this cell to show the HTML representation or trust the notebook. <br />On GitHub, the HTML representation is unable to render, please try loading this page with nbviewer.org.</b></div><div class=\"sk-container\" hidden><div class=\"sk-item\"><div class=\"sk-estimator sk-toggleable\"><input class=\"sk-toggleable__control sk-hidden--visually\" id=\"sk-estimator-id-1\" type=\"checkbox\" checked><label for=\"sk-estimator-id-1\" class=\"sk-toggleable__label sk-toggleable__label-arrow\">LogisticRegression</label><div class=\"sk-toggleable__content\"><pre>LogisticRegression()</pre></div></div></div></div></div>"
      ],
      "text/plain": [
       "LogisticRegression()"
      ]
     },
     "execution_count": 15,
     "metadata": {},
     "output_type": "execute_result"
    }
   ],
   "source": [
    "\n",
    "# Membuat dan melatih model Regresi Logistik\n",
    "model = LogisticRegression()\n",
    "# melatih data latih dan target dari data latih\n",
    "model.fit(X_train, y_train)"
   ]
  },
  {
   "cell_type": "code",
   "execution_count": 16,
   "metadata": {},
   "outputs": [
    {
     "name": "stdout",
     "output_type": "stream",
     "text": [
      "[[-0.26000166 -0.17362339 -0.11955988  0.19735981]]\n"
     ]
    }
   ],
   "source": [
    "# Melihat Nilai Koefisien dari setiap fitur\n",
    "print(model.coef_)"
   ]
  },
  {
   "cell_type": "code",
   "execution_count": 17,
   "metadata": {},
   "outputs": [
    {
     "name": "stdout",
     "output_type": "stream",
     "text": [
      "  true predict\n",
      "0    M       M\n",
      "1    F       M\n",
      "2    F       M\n",
      "3    M       M\n",
      "4    M       M\n",
      "5    F       F\n",
      "6    M       F\n",
      "7    M       F\n",
      "8    M       M\n",
      "9    F       F\n"
     ]
    }
   ],
   "source": [
    "# Melakukan prediksi dengan model Regresi Logistik pada data uji X_test\n",
    "y_pred = pd.Series(model.predict(X_test))\n",
    "# Mereset indeks dari y_test agar sesuai dengan indeks hasil prediksi y_pred\n",
    "y_test = y_test.reset_index(drop=True)\n",
    "# Menggabungkan y_test dan y_pred secara berdampingan dalam satu DataFrame\n",
    "z = pd.concat([y_test, y_pred], axis=1)\n",
    "# Memberi nama kolom pada DataFrame hasil penggabungan\n",
    "z.columns = [\"true\", \"predict\"]\n",
    "# Mencetak 10 baris pertama dari DataFrame z, yang berisi nilai sebenarnya dan nilai prediksi\n",
    "print(z.head(10))"
   ]
  },
  {
   "cell_type": "code",
   "execution_count": 18,
   "metadata": {},
   "outputs": [
    {
     "name": "stdout",
     "output_type": "stream",
     "text": [
      "gender prediction :  ['F']\n"
     ]
    },
    {
     "name": "stderr",
     "output_type": "stream",
     "text": [
      "c:\\Users\\afriz\\anaconda3\\Lib\\site-packages\\sklearn\\base.py:439: UserWarning: X does not have valid feature names, but LogisticRegression was fitted with feature names\n",
      "  warnings.warn(\n"
     ]
    }
   ],
   "source": [
    "# test output prediksi gender secara manual \n",
    "prediction = model.predict([[0,6,3,0]]) #[Cool,Rock,Vodka,7UP/Sprite]\n",
    "print(\"gender prediction : \",prediction)"
   ]
  },
  {
   "cell_type": "markdown",
   "metadata": {},
   "source": [
    "###### Mengukur kinerja Model"
   ]
  },
  {
   "cell_type": "code",
   "execution_count": 19,
   "metadata": {},
   "outputs": [
    {
     "name": "stdout",
     "output_type": "stream",
     "text": [
      "Akurasi :  0.5714285714285714\n",
      "Presisi Gender Female :  0.3333333333333333\n",
      "Recall Gender Female :  0.5\n",
      "Presisi Gender Male :  0.75\n",
      "Recall Gender Male :  0.6\n"
     ]
    }
   ],
   "source": [
    "# Menghitung dan mencetak akurasi dari model\n",
    "print(\"Akurasi : \", metrics.accuracy_score(y_test, y_pred))\n",
    "\n",
    "# Menghitung dan mencetak nilai precision (presisi) untuk kelas Female\n",
    "print(\"Presisi Gender Female : \", metrics.precision_score(y_test, y_pred, pos_label='F'))\n",
    "# Menghitung dan mencetak seberapa baik model berjalan untuk kelas Female\n",
    "print('Recall Gender Female : ', metrics.recall_score(y_test, y_pred, pos_label='F'))\n",
    "\n",
    "# Menghitung dan mencetak precision (presisi) untuk kelas Male\n",
    "print(\"Presisi Gender Male : \", metrics.precision_score(y_test, y_pred, pos_label='M'))\n",
    "# Menghitung dan mencetak seberapa baik model berjalan untuk kelas Male\n",
    "print('Recall Gender Male : ', metrics.recall_score(y_test, y_pred, pos_label='M'))\n"
   ]
  },
  {
   "cell_type": "code",
   "execution_count": 20,
   "metadata": {},
   "outputs": [
    {
     "name": "stdout",
     "output_type": "stream",
     "text": [
      "Confusion Matrix:\n",
      " [[2 2]\n",
      " [4 6]]\n"
     ]
    },
    {
     "data": {
      "text/plain": [
       "Text(0.5, 23.52222222222222, 'True')"
      ]
     },
     "execution_count": 20,
     "metadata": {},
     "output_type": "execute_result"
    },
    {
     "data": {
      "image/png": "[encoded data removed]",
      "text/plain": [
       "<Figure size 640x480 with 2 Axes>"
      ]
     },
     "metadata": {},
     "output_type": "display_data"
    }
   ],
   "source": [
    "# Menghitung confusion matrix dari model\n",
    "cnf_matrix = confusion_matrix(y_test, y_pred)\n",
    "print(\"Confusion Matrix:\\n\", cnf_matrix)\n",
    "# Labels untuk sumbu x dan y pada heatmap\n",
    "labels = [0,1]\n",
    "\n",
    "# Membuat subplot dan mengatur label sumbu x dan y\n",
    "fig , ax = plt.subplots()\n",
    "tick_marks = np.arange(len(labels))\n",
    "plt.xticks(tick_marks, labels)\n",
    "plt.yticks(tick_marks, labels)\n",
    "\n",
    "# Membuat heatmap dari confusion matrix dengan menggunakan seaborn\n",
    "sns.heatmap(cnf_matrix, annot=True, fmt='g', cmap='Blues', xticklabels=['Female', 'Male'], yticklabels=['Female', 'Male'])\n",
    "# Menempatkan label sumbu x di atas heatmap\n",
    "ax.xaxis.set_label_position(\"top\")\n",
    "# Memberi judul pada plot\n",
    "plt.title(\"Confusion Matrix\", y=1.1)\n",
    "# Memberi label pada sumbu y dan x\n",
    "plt.ylabel('Predicted')\n",
    "plt.xlabel('True')\n"
   ]
  },
  {
   "cell_type": "code",
   "execution_count": 21,
   "metadata": {},
   "outputs": [
    {
     "data": {
      "image/png": "[encoded data removed]",
      "text/plain": [
       "<Figure size 640x480 with 1 Axes>"
      ]
     },
     "metadata": {},
     "output_type": "display_data"
    }
   ],
   "source": [
    "# Menghitung probabilitas prediksi untuk kelas positif\n",
    "y_prob = model.predict_proba(X_test)[:, 1]\n",
    "y_test_numeric = y_test.replace({'F': 0, 'M': 1})\n",
    "\n",
    "# Menghitung nilai False Positive Rate (FPR), True Positive Rate (TPR), dan threshold\n",
    "fpr, tpr, _ = roc_curve(y_test_numeric, y_prob)\n",
    "\n",
    "# Menghitung nilai Area Under Curve (AUC) dari ROC\n",
    "roc_auc = roc_auc_score(y_test_numeric, y_prob)\n",
    "\n",
    "# Membuat plot ROC curve\n",
    "plt.figure()\n",
    "plt.plot(fpr, tpr, color='darkorange', lw=2, label='ROC curve (area = %0.2f)' % roc_auc)\n",
    "plt.plot([0, 1], [0, 1], color='navy', lw=2, linestyle='--')\n",
    "plt.xlim([0.0, 1.0])\n",
    "plt.ylim([0.0, 1.05])\n",
    "plt.xlabel('False Positive Rate')\n",
    "plt.ylabel('True Positive Rate')\n",
    "plt.title('Receiver Operating Characteristic')\n",
    "plt.legend(loc=\"lower right\")\n",
    "plt.show()"
   ]
  },
  {
   "cell_type": "code",
   "execution_count": 22,
   "metadata": {},
   "outputs": [
    {
     "name": "stdout",
     "output_type": "stream",
     "text": [
      "F1-score M :  0.6666666666666665\n",
      "F1-score F :  0.4\n"
     ]
    }
   ],
   "source": [
    "# Menghitung F1-score\n",
    "f1 = f1_score(y_test, y_pred, pos_label='M')  # Untuk kelas 'M'\n",
    "f2 = f1_score(y_test, y_pred, pos_label='F')  # Untuk kelas 'F'\n",
    "\n",
    "print(\"F1-score M : \", f1)\n",
    "print(\"F1-score F : \", f2)"
   ]
  },
  {
   "cell_type": "markdown",
   "metadata": {},
   "source": [
    "###### Menyimpan Model ke Joblib"
   ]
  },
  {
   "cell_type": "code",
   "execution_count": 23,
   "metadata": {},
   "outputs": [
    {
     "data": {
      "text/plain": [
       "['tugas.joblib']"
      ]
     },
     "execution_count": 23,
     "metadata": {},
     "output_type": "execute_result"
    }
   ],
   "source": [
    "# menyimpan model yang telah dilatih dengan joblib agar model bisa digunakan kapanpun tanpa perlu melatih ulang\n",
    "joblib.dump(model, \"tugas.joblib\")"
   ]
  }
 ],
 "metadata": {
  "kernelspec": {
   "display_name": "base",
   "language": "python",
   "name": "python3"
  },
  "language_info": {
   "codemirror_mode": {
    "name": "ipython",
    "version": 3
   },
   "file_extension": ".py",
   "mimetype": "text/x-python",
   "name": "python",
   "nbconvert_exporter": "python",
   "pygments_lexer": "ipython3",
   "version": "3.11.7"
  }
 },
 "nbformat": 4,
 "nbformat_minor": 2
}
